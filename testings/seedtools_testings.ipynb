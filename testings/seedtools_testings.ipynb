{
 "cells": [
  {
   "cell_type": "code",
   "execution_count": 6,
   "id": "36bbe4ba",
   "metadata": {},
   "outputs": [
    {
     "ename": "NameError",
     "evalue": "name '__file__' is not defined",
     "output_type": "error",
     "traceback": [
      "\u001b[31m---------------------------------------------------------------------------\u001b[39m",
      "\u001b[31mNameError\u001b[39m                                 Traceback (most recent call last)",
      "\u001b[36mCell\u001b[39m\u001b[36m \u001b[39m\u001b[32mIn[6]\u001b[39m\u001b[32m, line 2\u001b[39m\n\u001b[32m      1\u001b[39m \u001b[38;5;28;01mimport\u001b[39;00m\u001b[38;5;250m \u001b[39m\u001b[34;01mos\u001b[39;00m\u001b[38;5;250m \u001b[39m,\u001b[34;01msys\u001b[39;00m \n\u001b[32m----> \u001b[39m\u001b[32m2\u001b[39m sys.path.append(os.path.abspath(os.path.join(os.path.dirname(\u001b[34;43m__file__\u001b[39;49m), \u001b[33m'\u001b[39m\u001b[33m..\u001b[39m\u001b[33m'\u001b[39m)))\n\u001b[32m      4\u001b[39m \u001b[38;5;28;01mfrom\u001b[39;00m\u001b[38;5;250m \u001b[39m\u001b[34;01mseedtools\u001b[39;00m\u001b[38;5;250m \u001b[39m\u001b[38;5;28;01mimport\u001b[39;00m return_data_path\n",
      "\u001b[31mNameError\u001b[39m: name '__file__' is not defined"
     ]
    }
   ],
   "source": [
    "import os ,sys \n",
    "sys.path.append(os.path.abspath(os.path.join(os.path.dirname(__file__), '..')))\n",
    "\n",
    "from seedtools import return_data_path"
   ]
  },
  {
   "cell_type": "code",
   "execution_count": 9,
   "id": "3360ccf5",
   "metadata": {},
   "outputs": [
    {
     "name": "stdout",
     "output_type": "stream",
     "text": [
      "- data File ✔\n",
      "- Seed file ✔\n",
      "shape :  [400, 5]\n",
      "columns :  ['User ID', 'Gender', 'Age', 'EstimatedSalary', 'Purchased']\n",
      "desc :  DATA IS NOT YET PROVIDED\n",
      "drop_cols :  ['USER ID']\n",
      "    User ID  Gender  Age  EstimatedSalary  Purchased\n",
      "0  15624510    Male   19            19000          0\n",
      "1  15810944    Male   35            20000          0\n",
      "2  15668575  Female   26            43000          0\n",
      "3  15603246  Female   27            57000          0\n",
      "4  15804002    Male   19            76000          0\n"
     ]
    }
   ],
   "source": [
    "\n",
    "\n",
    "data  = pd.read_csv(load_seed(\"Social_Network_Ads.csv\"))\n",
    "print(data.head())"
   ]
  },
  {
   "cell_type": "code",
   "execution_count": 10,
   "id": "c3371af5",
   "metadata": {},
   "outputs": [
    {
     "ename": "KeyError",
     "evalue": "'drop_cols'",
     "output_type": "error",
     "traceback": [
      "\u001b[31m---------------------------------------------------------------------------\u001b[39m",
      "\u001b[31mKeyError\u001b[39m                                  Traceback (most recent call last)",
      "\u001b[36mCell\u001b[39m\u001b[36m \u001b[39m\u001b[32mIn[10]\u001b[39m\u001b[32m, line 1\u001b[39m\n\u001b[32m----> \u001b[39m\u001b[32m1\u001b[39m \u001b[43mregister_version\u001b[49m\u001b[43m(\u001b[49m\u001b[33;43m\"\u001b[39;49m\u001b[33;43mSocial_Network_Ads.csv\u001b[39;49m\u001b[33;43m\"\u001b[39;49m\u001b[43m,\u001b[49m\u001b[43mdrop_cols\u001b[49m\u001b[43m=\u001b[49m\u001b[43m[\u001b[49m\u001b[33;43m\"\u001b[39;49m\u001b[33;43mUser ID\u001b[39;49m\u001b[33;43m\"\u001b[39;49m\u001b[43m]\u001b[49m\u001b[43m,\u001b[49m\u001b[43mname\u001b[49m\u001b[43m=\u001b[49m\u001b[33;43m\"\u001b[39;49m\u001b[33;43mv1\u001b[39;49m\u001b[33;43m\"\u001b[39;49m\u001b[43m)\u001b[49m\n",
      "\u001b[36mFile \u001b[39m\u001b[32m~\\AppData\\Roaming\\Python\\Python311\\site-packages\\seedtools\\seed_file.py:73\u001b[39m, in \u001b[36mregister_version\u001b[39m\u001b[34m(filename, drop_cols, name)\u001b[39m\n\u001b[32m     67\u001b[39m \u001b[38;5;28;01mif\u001b[39;00m seed_status == \u001b[38;5;28;01mTrue\u001b[39;00m :\n\u001b[32m     68\u001b[39m     new_data  = {\n\u001b[32m     69\u001b[39m         name : {\n\u001b[32m     70\u001b[39m             \u001b[33m\"\u001b[39m\u001b[33mdrop_cols\u001b[39m\u001b[33m\"\u001b[39m: drop_cols\n\u001b[32m     71\u001b[39m         }\n\u001b[32m     72\u001b[39m     }\n\u001b[32m---> \u001b[39m\u001b[32m73\u001b[39m     update_status = \u001b[43mupdate_seed\u001b[49m\u001b[43m(\u001b[49m\u001b[43mfilename\u001b[49m\u001b[43m,\u001b[49m\u001b[43mnew_data\u001b[49m\u001b[43m)\u001b[49m\n\u001b[32m     74\u001b[39m \u001b[38;5;28;01melse\u001b[39;00m:\n\u001b[32m     75\u001b[39m     \u001b[38;5;28mprint\u001b[39m(\u001b[33m\"\u001b[39m\u001b[33mSeed file not found, please register the seed file first.\u001b[39m\u001b[33m\"\u001b[39m)\n",
      "\u001b[36mFile \u001b[39m\u001b[32m~\\AppData\\Roaming\\Python\\Python311\\site-packages\\seedtools\\mini_utils.py:70\u001b[39m, in \u001b[36mupdate_seed\u001b[39m\u001b[34m(filename, new_data)\u001b[39m\n\u001b[32m     68\u001b[39m \u001b[38;5;28;01mdef\u001b[39;00m\u001b[38;5;250m \u001b[39m\u001b[34mupdate_seed\u001b[39m(filename,new_data):\n\u001b[32m     69\u001b[39m     data = read_seed(filename)\n\u001b[32m---> \u001b[39m\u001b[32m70\u001b[39m     data.update({\u001b[33m\"\u001b[39m\u001b[33mdrop_cols\u001b[39m\u001b[33m\"\u001b[39m:\u001b[43mnew_data\u001b[49m\u001b[43m[\u001b[49m\u001b[33;43m\"\u001b[39;49m\u001b[33;43mdrop_cols\u001b[39;49m\u001b[33;43m\"\u001b[39;49m\u001b[43m]\u001b[49m})\n\u001b[32m     71\u001b[39m     write_json(data, connect(\u001b[33mf\u001b[39m\u001b[33m\"\u001b[39m\u001b[38;5;132;01m{\u001b[39;00mget_name(filename)\u001b[38;5;132;01m}\u001b[39;00m\u001b[33m_seed.json\u001b[39m\u001b[33m\"\u001b[39m))\n\u001b[32m     72\u001b[39m     \u001b[38;5;28mprint\u001b[39m(\u001b[33m\"\u001b[39m\u001b[33mSeed Updated Successfully\u001b[39m\u001b[33m\"\u001b[39m)\n",
      "\u001b[31mKeyError\u001b[39m: 'drop_cols'"
     ]
    }
   ],
   "source": [
    "register_version(\"Social_Network_Ads.csv\",drop_cols=[\"User ID\"],name=\"v1\")"
   ]
  },
  {
   "cell_type": "code",
   "execution_count": 13,
   "id": "dc14c0cc",
   "metadata": {},
   "outputs": [
    {
     "data": {
      "text/plain": [
       "{'shape': [400, 5],\n",
       " 'columns': ['User ID', 'Gender', 'Age', 'EstimatedSalary', 'Purchased'],\n",
       " 'desc': 'DATA IS NOT YET PROVIDED',\n",
       " 'drop_cols': ['USER ID']}"
      ]
     },
     "execution_count": 13,
     "metadata": {},
     "output_type": "execute_result"
    }
   ],
   "source": [
    "read_seed(\"C:/codes/machineL/data/Social_Network_Ads.csv\")"
   ]
  },
  {
   "cell_type": "code",
   "execution_count": 14,
   "id": "9164affe",
   "metadata": {},
   "outputs": [
    {
     "name": "stdout",
     "output_type": "stream",
     "text": [
      "- data File ✔\n",
      "- Seed file ✔\n",
      "shape :  [400, 5]\n",
      "columns :  ['User ID', 'Gender', 'Age', 'EstimatedSalary', 'Purchased']\n",
      "desc :  DATA IS NOT YET PROVIDED\n",
      "drop_cols :  ['USER ID']\n"
     ]
    },
    {
     "data": {
      "text/plain": [
       "'C:/codes/machineL/data\\\\Social_Network_Ads.csv'"
      ]
     },
     "execution_count": 14,
     "metadata": {},
     "output_type": "execute_result"
    }
   ],
   "source": [
    "load_seed(\"Social_Network_Ads.csv\")"
   ]
  },
  {
   "cell_type": "code",
   "execution_count": null,
   "id": "00eea1a6",
   "metadata": {},
   "outputs": [],
   "source": []
  },
  {
   "cell_type": "code",
   "execution_count": null,
   "id": "84ab6651",
   "metadata": {},
   "outputs": [],
   "source": []
  }
 ],
 "metadata": {
  "kernelspec": {
   "display_name": "Python 3",
   "language": "python",
   "name": "python3"
  },
  "language_info": {
   "codemirror_mode": {
    "name": "ipython",
    "version": 3
   },
   "file_extension": ".py",
   "mimetype": "text/x-python",
   "name": "python",
   "nbconvert_exporter": "python",
   "pygments_lexer": "ipython3",
   "version": "3.11.9"
  }
 },
 "nbformat": 4,
 "nbformat_minor": 5
}
